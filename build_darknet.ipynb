{
 "cells": [
  {
   "cell_type": "code",
   "execution_count": null,
   "metadata": {},
   "outputs": [],
   "source": [
    "!git clone https://github.com/AlexeyAB/darknet.git"
   ]
  },
  {
   "cell_type": "markdown",
   "metadata": {
    "id": "-gPC4lgCo68H"
   },
   "source": [
    "## 修改 Makefile\n",
    "- GPU=1\n",
    "- CUDNN=1\n",
    "- CUDNN_HALF=1\n",
    "- OPENCV=1"
   ]
  },
  {
   "cell_type": "code",
   "execution_count": null,
   "metadata": {
    "colab": {
     "base_uri": "https://localhost:8080/"
    },
    "executionInfo": {
     "elapsed": 20648,
     "status": "ok",
     "timestamp": 1609910610280,
     "user": {
      "displayName": "張家銘",
      "photoUrl": "",
      "userId": "13780976937017289455"
     },
     "user_tz": -480
    },
    "id": "Ol-ujPU7OzIV",
    "outputId": "9e5cce78-0ea1-4d40-ae95-7ca1f2fdc417"
   },
   "outputs": [],
   "source": [
    "!head darknet/Makefile"
   ]
  },
  {
   "cell_type": "code",
   "execution_count": null,
   "metadata": {
    "id": "xV7YLdFZO7rW"
   },
   "outputs": [],
   "source": [
    "!sed -i \"s/GPU=0/GPU=1/g\" darknet/Makefile\n",
    "!sed -i \"s/CUDNN=0/CUDNN=1/g\" darknet/Makefile\n",
    "!sed -i \"s/CUDNN_HALF=0/CUDNN_HALF=1/g\" darknet/Makefile\n",
    "!sed -i \"s/OPENCV=0/OPENCV=1/g\" darknet/Makefile"
   ]
  },
  {
   "cell_type": "code",
   "execution_count": null,
   "metadata": {
    "colab": {
     "base_uri": "https://localhost:8080/"
    },
    "executionInfo": {
     "elapsed": 506,
     "status": "ok",
     "timestamp": 1609910618498,
     "user": {
      "displayName": "張家銘",
      "photoUrl": "",
      "userId": "13780976937017289455"
     },
     "user_tz": -480
    },
    "id": "bzH4VOqaPCwl",
    "outputId": "38d03e40-435e-4821-9c3c-a6ad1a0c5489"
   },
   "outputs": [],
   "source": [
    "!head darknet/Makefile"
   ]
  },
  {
   "cell_type": "markdown",
   "metadata": {
    "id": "yZbuYygZIJpp"
   },
   "source": [
    "## 編譯 darknet"
   ]
  },
  {
   "cell_type": "code",
   "execution_count": null,
   "metadata": {
    "colab": {
     "base_uri": "https://localhost:8080/"
    },
    "executionInfo": {
     "elapsed": 79502,
     "status": "ok",
     "timestamp": 1609910699510,
     "user": {
      "displayName": "張家銘",
      "photoUrl": "",
      "userId": "13780976937017289455"
     },
     "user_tz": -480
    },
    "id": "Tozz5hEvPNuF",
    "outputId": "d30d6390-a698-41a8-9203-c055bc9b834e"
   },
   "outputs": [],
   "source": [
    "!cd darknet; make"
   ]
  },
  {
   "cell_type": "code",
   "execution_count": null,
   "metadata": {},
   "outputs": [],
   "source": []
  }
 ],
 "metadata": {
  "kernelspec": {
   "display_name": "Python 3",
   "language": "python",
   "name": "python3"
  },
  "language_info": {
   "codemirror_mode": {
    "name": "ipython",
    "version": 3
   },
   "file_extension": ".py",
   "mimetype": "text/x-python",
   "name": "python",
   "nbconvert_exporter": "python",
   "pygments_lexer": "ipython3",
   "version": "3.7.6"
  }
 },
 "nbformat": 4,
 "nbformat_minor": 4
}
